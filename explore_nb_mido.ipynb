{
 "cells": [
  {
   "cell_type": "markdown",
   "metadata": {},
   "source": [
    "## Todo\n",
    "- eda midi file typ[e]\n",
    "- first 30 seconds?\n",
    "- add anomaly detection\n",
    "- try some cross validation or other model effects (SVM)\n",
    "- more features \n",
    "    - get time signature from meta messages\n",
    "    - stdev of velocity (instead of just average)\n",
    "    - create some manual cross variables with timing and key and time sig"
   ]
  },
  {
   "cell_type": "markdown",
   "metadata": {},
   "source": [
    "## Initial Imports and Paths"
   ]
  },
  {
   "cell_type": "code",
   "execution_count": 99,
   "metadata": {},
   "outputs": [],
   "source": [
    "from composer_class_funcs import *"
   ]
  },
  {
   "cell_type": "code",
   "execution_count": 100,
   "metadata": {},
   "outputs": [],
   "source": [
    "# viz\n",
    "import matplotlib.pyplot as plt\n",
    "import seaborn as sns\n",
    "# ml packages\n",
    "from sklearn.model_selection import train_test_split\n",
    "from sklearn.ensemble import RandomForestClassifier\n",
    "from sklearn.linear_model import LogisticRegression\n",
    "from sklearn.metrics import accuracy_score, classification_report, precision_recall_curve, roc_curve, auc\n",
    "from sklearn.preprocessing import LabelEncoder"
   ]
  },
  {
   "cell_type": "code",
   "execution_count": 101,
   "metadata": {},
   "outputs": [
    {
     "name": "stdout",
     "output_type": "stream",
     "text": [
      "['.DS_Store', 'Beethoven', 'Schubert', 'Bach', 'Brahms']\n",
      "['0.8014751784512073_adj.mid', '0.981087291054314_adj.mid', '0.5807329043589801_adj.mid', '0.23120017256495873_adj.mid', '0.033313986422223163_adj.mid', '0.3559970176888735_adj.mid', '0.3264565808984162_adj.mid', '0.905499891236923_adj.mid', '0.10250888365879718_adj.mid', '0.48367685897240176_adj.mid', '0.549470161204349_adj.mid', '0.33695573887576447_adj.mid', '0.7491289879531658_adj.mid', '0.337517805339117_adj.mid', '0.07186746659481313_adj.mid', '0.09167358800381353_adj.mid', '0.539512676743813_adj.mid', '0.26551079719260606_adj.mid', '0.647959423719129_adj.mid', '0.047574444458241216_adj.mid', '0.10222964826466285_adj.mid', '0.22047111832936942_adj.mid', '0.1755252422917658_adj.mid', '0.36321860283443286_adj.mid', '0.21198476749665085_adj.mid', '0.06402123326764841_adj.mid', '0.3620067189216978_adj.mid', '0.9511403301279795_adj.mid', '0.1960551158929671_adj.mid', '0.21901852969811753_adj.mid', '0.10630249969742178_adj.mid', '0.9353908329958764_adj.mid', '0.3334293069825759_adj.mid', '0.30993012400290976_adj.mid', '0.002716920481628_adj.mid']\n"
     ]
    }
   ],
   "source": [
    "# file paths\n",
    "train_midi_path = \"./Challenge_DataSet/PS1/\"\n",
    "test_midi_path = \"./Challenge_DataSet/PS2/\"\n",
    "\n",
    "print(os.listdir(train_midi_path))\n",
    "print(os.listdir(test_midi_path))"
   ]
  },
  {
   "cell_type": "markdown",
   "metadata": {},
   "source": [
    "## Data Collection and Processing"
   ]
  },
  {
   "cell_type": "code",
   "execution_count": null,
   "metadata": {},
   "outputs": [],
   "source": [
    "unlabeled_features = load_dataset(test_midi_path, labeled=False)"
   ]
  },
  {
   "cell_type": "code",
   "execution_count": null,
   "metadata": {},
   "outputs": [],
   "source": [
    "features, labels = load_dataset(train_midi_path, labeled=True)"
   ]
  },
  {
   "cell_type": "markdown",
   "metadata": {},
   "source": [
    "## EDA"
   ]
  },
  {
   "cell_type": "code",
   "execution_count": null,
   "metadata": {},
   "outputs": [],
   "source": [
    "df_labeled = create_dataframe(features, labels)\n",
    "df_labeled.to_csv('eda_df.csv')\n",
    "df_labeled.head()"
   ]
  },
  {
   "cell_type": "code",
   "execution_count": null,
   "metadata": {},
   "outputs": [],
   "source": [
    "df_unlabeled=create_dataframe(unlabeled_features)\n",
    "df_unlabeled.head()"
   ]
  },
  {
   "cell_type": "code",
   "execution_count": null,
   "metadata": {},
   "outputs": [],
   "source": [
    "# Display basic information about the DataFrame\n",
    "print(\"\\nBasic Information about the DataFrame:\")\n",
    "print(df_labeled.info())\n",
    "\n",
    "# Generate summary statistics\n",
    "print(\"\\nSummary Statistics of the DataFrame:\")\n",
    "print(df_labeled.describe())\n",
    "\n",
    "# Check for missing values\n",
    "print(\"\\nMissing Values in the DataFrame:\")\n",
    "print(df_labeled.isnull().sum())"
   ]
  },
  {
   "cell_type": "code",
   "execution_count": null,
   "metadata": {},
   "outputs": [],
   "source": [
    "df_labeled.key.value_counts()"
   ]
  },
  {
   "cell_type": "code",
   "execution_count": null,
   "metadata": {},
   "outputs": [],
   "source": [
    "# Visualize the distribution of each numeric feature\n",
    "numeric_columns = df_labeled.select_dtypes(include=['float64', 'int64']).columns\n",
    "\n",
    "plt.figure(figsize=(20, 15))\n",
    "for i, col in enumerate(numeric_columns):\n",
    "    plt.subplot(10, 14, i+1)\n",
    "    sns.histplot(df_labeled[col], kde=True)\n",
    "    plt.title(f'Distribution of {col}')\n",
    "plt.tight_layout()\n",
    "plt.show()"
   ]
  },
  {
   "cell_type": "code",
   "execution_count": null,
   "metadata": {},
   "outputs": [],
   "source": [
    "# Visualize the distribution of each numeric feature\n",
    "numeric_columns = df_unlabeled.select_dtypes(include=['float64', 'int64']).columns\n",
    "\n",
    "plt.figure(figsize=(20, 15))\n",
    "for i, col in enumerate(numeric_columns):\n",
    "    plt.subplot(10, 14, i+1)\n",
    "    sns.histplot(df_unlabeled[col], kde=True)\n",
    "    plt.title(f'Distribution of {col}')\n",
    "plt.tight_layout()\n",
    "plt.show()"
   ]
  },
  {
   "cell_type": "markdown",
   "metadata": {},
   "source": [
    "based on this, I'd remove notes 0-22, 105-127, unless we want to add back in for novelty detection"
   ]
  },
  {
   "cell_type": "code",
   "execution_count": null,
   "metadata": {},
   "outputs": [],
   "source": [
    "# Drop columns corresponding to notes 0-22 and 105-127\n",
    "cols_to_drop = [f'Note_{i}' for i in list(range(0, 23)) + list(range(105, 128))]\n",
    "df_labeled.drop(columns=cols_to_drop, inplace=True)\n",
    "\n",
    "numeric_columns = df_labeled.select_dtypes(include=['float64', 'int64']).columns"
   ]
  },
  {
   "cell_type": "code",
   "execution_count": null,
   "metadata": {},
   "outputs": [],
   "source": [
    "plt.figure(figsize=(20, 15))\n",
    "for i, col in enumerate(numeric_columns):\n",
    "    plt.subplot(10, 14, i+1)\n",
    "    sns.histplot(df_labeled[col], kde=True)\n",
    "    plt.title(f'Distribution of {col}')\n",
    "plt.tight_layout()\n",
    "plt.show()"
   ]
  },
  {
   "cell_type": "code",
   "execution_count": null,
   "metadata": {},
   "outputs": [],
   "source": [
    "# Visualize correlations between numeric features\n",
    "plt.figure(figsize=(12, 10))\n",
    "correlation_matrix = df_labeled[numeric_columns].corr()\n",
    "sns.heatmap(correlation_matrix, annot=True, cmap='coolwarm', fmt='.2f')\n",
    "plt.title('Correlation Matrix')\n",
    "plt.show()"
   ]
  },
  {
   "cell_type": "code",
   "execution_count": null,
   "metadata": {},
   "outputs": [],
   "source": [
    "# Visualize the relationship between the first two numeric features and the target (if applicable)\n",
    "if 'composer' in df_labeled.columns:\n",
    "    plt.figure(figsize=(10, 6))\n",
    "    sns.boxplot(x='composer', y=numeric_columns[0], data=df_labeled, hue='composer')\n",
    "    plt.title(f'{numeric_columns[0]} by Composer')\n",
    "    plt.show()\n",
    "\n",
    "    plt.figure(figsize=(10, 6))\n",
    "    sns.boxplot(x='composer', y=numeric_columns[1], data=df_labeled, hue='composer')\n",
    "    plt.title(f'{numeric_columns[1]} by Composer')\n",
    "    plt.show()"
   ]
  },
  {
   "cell_type": "code",
   "execution_count": null,
   "metadata": {},
   "outputs": [],
   "source": [
    "# Prepare the data for the stacked bar chart\n",
    "key_composer_counts = df_labeled.groupby(['key', 'composer']).size().unstack(fill_value=0)\n",
    "# Plot the stacked bar chart\n",
    "key_composer_counts.plot(kind='bar', stacked=True, figsize=(14, 7), colormap='viridis')\n",
    "plt.title('Number of Songs per Key, Colored by Composer')\n",
    "plt.xlabel('Key')\n",
    "plt.ylabel('Number of Songs')\n",
    "plt.xticks(rotation=90)\n",
    "plt.legend(title='Composer')\n",
    "plt.show()\n"
   ]
  },
  {
   "cell_type": "markdown",
   "metadata": {},
   "source": [
    "## Clean + Feature engineer"
   ]
  },
  {
   "cell_type": "code",
   "execution_count": null,
   "metadata": {},
   "outputs": [],
   "source": [
    "# replace Null keys with 'unk' value\n",
    "df_labeled['key']=df_labeled['key'].fillna('unk')"
   ]
  },
  {
   "cell_type": "code",
   "execution_count": null,
   "metadata": {},
   "outputs": [],
   "source": [
    "# Encode the 'key' variable\n",
    "label_encoder_key = LabelEncoder()\n",
    "df_labeled['key_encoded'] = label_encoder_key.fit_transform(df_labeled['key'])"
   ]
  },
  {
   "cell_type": "code",
   "execution_count": null,
   "metadata": {},
   "outputs": [],
   "source": [
    "# Encode the 'Composer' column\n",
    "label_encoder_composer = LabelEncoder()\n",
    "df_labeled['composer'] = label_encoder_composer.fit_transform(df_labeled['composer'])"
   ]
  },
  {
   "cell_type": "code",
   "execution_count": null,
   "metadata": {},
   "outputs": [],
   "source": [
    "# Define the features (X) and target (y)\n",
    "X = df_labeled.drop(columns=['composer', 'key'])\n",
    "y = df_labeled['composer']"
   ]
  },
  {
   "cell_type": "code",
   "execution_count": null,
   "metadata": {},
   "outputs": [],
   "source": [
    "# Split the data into training and testing sets\n",
    "X_train, X_test, y_train, y_test = train_test_split(X, y, test_size=0.4, random_state=42)"
   ]
  },
  {
   "cell_type": "code",
   "execution_count": null,
   "metadata": {},
   "outputs": [],
   "source": [
    "print(label_encoder_composer.classes_,'\\n')\n",
    "print('train targets\\n',y_train.value_counts())\n",
    "print('\\ntest targets\\n',y_test.value_counts())"
   ]
  },
  {
   "cell_type": "markdown",
   "metadata": {},
   "source": [
    "## Train Classifier"
   ]
  },
  {
   "cell_type": "markdown",
   "metadata": {},
   "source": [
    "### Logistic Regression"
   ]
  },
  {
   "cell_type": "code",
   "execution_count": null,
   "metadata": {},
   "outputs": [],
   "source": [
    "# Train and evaluate the Logistic Regression model\n",
    "log_reg = LogisticRegression(max_iter=10000, random_state=42)\n",
    "log_reg.fit(X_train, y_train)\n",
    "y_pred_lr = log_reg.predict(X_test)\n",
    "# Get the classification probabilities for each class\n",
    "y_proba_lr = log_reg.predict_proba(X_test)"
   ]
  },
  {
   "cell_type": "code",
   "execution_count": null,
   "metadata": {},
   "outputs": [],
   "source": [
    "print(\"Logistic Regression:\")\n",
    "print(\"Accuracy Score:\", accuracy_score(y_test, y_pred_lr))\n",
    "print(\"\\nClassification Report:\")\n",
    "print(classification_report(y_test, y_pred_lr,))\n",
    "\n",
    "# Print the classification probabilities along with the predicted class\n",
    "print(\"\\nLogistic Regression Classification Probabilities:\")\n",
    "for i, probs in enumerate(y_proba_lr):\n",
    "    print(f\"Sample {i}:\")\n",
    "    for j, class_prob in enumerate(probs):\n",
    "        print(f\"  Class {label_encoder_composer.classes_[j]}: {class_prob:.4f}\")\n",
    "    print(f\"  Predicted Class: {label_encoder_composer.inverse_transform([y_pred_lr[i]])[0]}\\n\")"
   ]
  },
  {
   "cell_type": "code",
   "execution_count": null,
   "metadata": {},
   "outputs": [],
   "source": [
    "# Visualize the classification probabilities for each class\n",
    "class_labels = label_encoder_composer.classes_\n",
    "num_classes = len(class_labels)\n",
    "\n",
    "plt.figure(figsize=(14, 10))\n",
    "for i in range(num_classes):\n",
    "    plt.subplot(num_classes, 1, i+1)\n",
    "    sns.histplot(y_proba_lr[:, i], kde=True, bins=20)\n",
    "    plt.title(f'Class {class_labels[i]}: Probability Distribution')\n",
    "    plt.xlabel('Predicted Probability')\n",
    "    plt.ylabel('Frequency')\n",
    "plt.tight_layout()\n",
    "plt.show()"
   ]
  },
  {
   "cell_type": "code",
   "execution_count": null,
   "metadata": {},
   "outputs": [],
   "source": [
    "# Plot ROC curves for each class\n",
    "plt.figure(figsize=(14, 10))\n",
    "for i in range(num_classes):\n",
    "    fpr, tpr, thresholds = roc_curve(y_test == i, y_proba_lr[:, i])\n",
    "    roc_auc = auc(fpr, tpr)\n",
    "    plt.plot(fpr, tpr, label=f'Class {class_labels[i]} (AUC = {roc_auc:.2f})')\n",
    "plt.plot([0, 1], [0, 1], 'k--', lw=2)  # Diagonal line for random guess\n",
    "plt.xlim([0.0, 1.0])\n",
    "plt.ylim([0.0, 1.05])\n",
    "plt.xlabel('False Positive Rate')\n",
    "plt.ylabel('True Positive Rate')\n",
    "plt.title('Receiver Operating Characteristic (ROC) Curves')\n",
    "plt.legend(loc='best')\n",
    "plt.show()"
   ]
  },
  {
   "cell_type": "markdown",
   "metadata": {},
   "source": [
    "### Random Forest"
   ]
  },
  {
   "cell_type": "code",
   "execution_count": null,
   "metadata": {},
   "outputs": [],
   "source": [
    "# Build and train the Random Forest classifier\n",
    "rf_classifier = RandomForestClassifier(n_estimators=100, random_state=42)\n",
    "rf_classifier.fit(X_train, y_train)"
   ]
  },
  {
   "cell_type": "code",
   "execution_count": null,
   "metadata": {},
   "outputs": [],
   "source": [
    "# Predict the target on the test set\n",
    "y_pred_rf = rf_classifier.predict(X_test)\n",
    "\n",
    "# Get the classification probabilities for each class\n",
    "y_proba_rf = rf_classifier.predict_proba(X_test)"
   ]
  },
  {
   "cell_type": "code",
   "execution_count": null,
   "metadata": {},
   "outputs": [],
   "source": [
    "# Evaluate the model\n",
    "print(\"Accuracy Score:\", accuracy_score(y_test, y_pred_rf))\n",
    "print(\"\\nClassification Report:\")\n",
    "print(classification_report(y_test, y_pred_rf))\n",
    "\n",
    "# Print the classification probabilities along with the predicted class\n",
    "print(\"\\nRF Classification Probabilities:\")\n",
    "for i, probs in enumerate(y_proba_rf):\n",
    "    print(f\"Sample {i}:\")\n",
    "    for j, class_prob in enumerate(probs):\n",
    "        print(f\"  Class {label_encoder_composer.classes_[j]}: {class_prob:.4f}\")\n",
    "    print(f\"  Predicted Class: {label_encoder_composer.inverse_transform([y_pred_rf[i]])[0]}\\n\")"
   ]
  },
  {
   "cell_type": "code",
   "execution_count": null,
   "metadata": {},
   "outputs": [],
   "source": [
    "# Visualize the classification probabilities for each class\n",
    "class_labels = label_encoder_composer.classes_\n",
    "num_classes = len(class_labels)\n",
    "\n",
    "plt.figure(figsize=(14, 10))\n",
    "for i in range(num_classes):\n",
    "    plt.subplot(num_classes, 1, i+1)\n",
    "    sns.histplot(y_proba_rf[:, i], kde=True, bins=20)\n",
    "    plt.title(f'Class {class_labels[i]}: Probability Distribution')\n",
    "    plt.xlabel('Predicted Probability')\n",
    "    plt.ylabel('Frequency')\n",
    "plt.tight_layout()\n",
    "plt.show()"
   ]
  },
  {
   "cell_type": "code",
   "execution_count": null,
   "metadata": {},
   "outputs": [],
   "source": [
    "# Plot ROC curves for each class\n",
    "plt.figure(figsize=(14, 10))\n",
    "for i in range(num_classes):\n",
    "    fpr, tpr, thresholds = roc_curve(y_test == i, y_proba_rf[:, i])\n",
    "    roc_auc = auc(fpr, tpr)\n",
    "    plt.plot(fpr, tpr, label=f'Class {class_labels[i]} (AUC = {roc_auc:.2f})')\n",
    "plt.plot([0, 1], [0, 1], 'k--', lw=2)  # Diagonal line for random guess\n",
    "plt.xlim([0.0, 1.0])\n",
    "plt.ylim([0.0, 1.05])\n",
    "plt.xlabel('False Positive Rate')\n",
    "plt.ylabel('True Positive Rate')\n",
    "plt.title('Receiver Operating Characteristic (ROC) Curves')\n",
    "plt.legend(loc='best')\n",
    "plt.show()"
   ]
  },
  {
   "cell_type": "markdown",
   "metadata": {},
   "source": [
    "## Inference"
   ]
  },
  {
   "cell_type": "code",
   "execution_count": null,
   "metadata": {},
   "outputs": [],
   "source": [
    "# def predict_composer(file_path, classifier):\n",
    "#     features = extract_features_from_midi(file_path)\n",
    "#     prediction = classifier.predict([features])\n",
    "#     return prediction[0]\n",
    "\n",
    "# # Example usage\n",
    "# new_midi_file = 'new_piece.mid'\n",
    "# composer = predict_composer(new_midi_file, clf)\n",
    "# print(f\"The predicted composer is: {composer}\")\n"
   ]
  },
  {
   "cell_type": "markdown",
   "metadata": {},
   "source": [
    "# scratch"
   ]
  },
  {
   "cell_type": "code",
   "execution_count": null,
   "metadata": {},
   "outputs": [],
   "source": [
    "file_path_ps2 = test_midi_path+\"0.981087291054314_adj.mid\"\n",
    "file_path_ps1 = train_midi_path+\"Bach/Cello Suite 3_BWV1009_2217_cs3-1pre.mid\""
   ]
  },
  {
   "cell_type": "code",
   "execution_count": 102,
   "metadata": {},
   "outputs": [
    {
     "name": "stdout",
     "output_type": "stream",
     "text": [
      "[0, 0, 0, 0, 0, 0, 0, 0, 0, 0, 0, 0, 0, 0, 0, 0, 0, 0, 0, 0, 0, 0, 0, 0, 0, 0, 0, 0, 0, 0, 0, 0, 0, 0, 0, 0, 10, 0, 8, 1, 13, 9, 3, 77, 1, 30, 6, 42, 56, 6, 66, 10, 102, 96, 26, 88, 13, 98, 10, 89, 87, 0, 37, 1, 13, 8, 0, 1, 0, 0, 0, 0, 0, 0, 0, 0, 0, 0, 0, 0, 0, 0, 0, 0, 0, 0, 0, 0, 0, 0, 0, 0, 0, 0, 0, 0, 0, 0, 0, 0, 0, 0, 0, 0, 0, 0, 0, 0, 0, 0, 0, 0, 0, 0, 0, 0, 0, 0, 0, 0, 0, 0, 0, 0, 0, 0, 0, 0]\n"
     ]
    }
   ],
   "source": [
    "midi = mido.MidiFile(file_path_ps1)\n",
    "\n",
    "# initialize values\n",
    "note_counts = [0] * 128  # MIDI notes range from 0 to 127\n",
    "total_velocity = 0\n",
    "note_on_count = 0\n",
    "key = '' # each file should have only 1 key. Investigate if this assumption is correct.\n",
    "tpb = midi.ticks_per_beat\n",
    "\n",
    "# get ticks\n",
    "for track in midi.tracks:\n",
    "    for msg in track:\n",
    "        if msg.type == 'note_on' and msg.velocity > 0:\n",
    "            note_counts[msg.note] += 1\n",
    "            total_velocity += msg.velocity\n",
    "            note_on_count += 1\n",
    "        if msg.is_meta and msg.type == 'key_signature':\n",
    "            key = msg.key\n",
    "print(note_counts)"
   ]
  },
  {
   "cell_type": "code",
   "execution_count": 105,
   "metadata": {},
   "outputs": [
    {
     "name": "stdout",
     "output_type": "stream",
     "text": [
      "[0, 0, 0, 0, 0, 0, 0, 0, 0, 0, 0, 0, 0, 0, 0, 0, 0, 0, 0, 0, 0, 0, 0, 0, 0, 0, 0, 0, 0, 0, 0, 0, 0, 0, 0, 0, 1, 0, 1, 0, 2, 1, 0, 4, 0, 4, 0, 5, 10, 0, 13, 0, 16, 5, 10, 11, 0, 13, 0, 13, 13, 0, 7, 0, 4, 2, 0, 0, 0, 0, 0, 0, 0, 0, 0, 0, 0, 0, 0, 0, 0, 0, 0, 0, 0, 0, 0, 0, 0, 0, 0, 0, 0, 0, 0, 0, 0, 0, 0, 0, 0, 0, 0, 0, 0, 0, 0, 0, 0, 0, 0, 0, 0, 0, 0, 0, 0, 0, 0, 0, 0, 0, 0, 0, 0, 0, 0, 0]\n",
      "225.42860899999616\n"
     ]
    }
   ],
   "source": [
    "midi = mido.MidiFile(file_path_ps1)\n",
    "\n",
    "# initialize values\n",
    "note_counts = [0] * 128  # MIDI notes range from 0 to 127\n",
    "total_velocity = 0\n",
    "note_on_count = 0\n",
    "elapsed_time = 0\n",
    "key = '' # each file should have only 1 key. Investigate if this assumption is correct.\n",
    "tpb = midi.ticks_per_beat\n",
    "\n",
    "# get ticks\n",
    "# for track in midi.tracks:\n",
    "for msg in midi:\n",
    "    # get the key\n",
    "    if msg.is_meta and msg.type == 'key_signature':\n",
    "        key = msg.key\n",
    "    \n",
    "    # just the first n seconds\n",
    "    elapsed_time += msg.time\n",
    "    if elapsed_time<=30:\n",
    "        if msg.type == 'note_on' and msg.velocity > 0:\n",
    "            note_counts[msg.note] += 1\n",
    "            total_velocity += msg.velocity\n",
    "            note_on_count += 1\n",
    "\n",
    "print(note_counts)\n",
    "print(elapsed_time)"
   ]
  },
  {
   "cell_type": "code",
   "execution_count": null,
   "metadata": {},
   "outputs": [],
   "source": [
    "midi = mido.MidiFile(file_path_ps1)\n",
    "print('Midi file type', midi.type)\n",
    "print('Length',midi.length)\n",
    "print('Ticks per beat',midi.ticks_per_beat)\n",
    "\n",
    "ticks_per_beat = midi.ticks_per_beat"
   ]
  },
  {
   "cell_type": "code",
   "execution_count": null,
   "metadata": {},
   "outputs": [],
   "source": [
    "# Load the MIDI file\n",
    "midi_file = mido.MidiFile(file_path_ps1)\n",
    "\n",
    "# Initialize a variable to keep track of elapsed time\n",
    "# elapsed_time = 0\n",
    "\n",
    "# Define the duration in seconds for which we want to collect messages\n",
    "target_duration = 30\n",
    "\n",
    "# List to store the messages within the first 30 seconds\n",
    "messages_within_duration = []\n",
    "\n",
    "# Iterate through the messages in the MIDI file\n",
    "for track in midi_file.tracks:\n",
    "    elapsed_time = 0\n",
    "    for message in track:\n",
    "        elapsed_time += message.time\n",
    "        if elapsed_time <= target_duration:\n",
    "            print(elapsed_time)\n",
    "            print(message)\n",
    "\n",
    "\n",
    "# Display the collected messages\n",
    "# for msg in messages_within_duration:\n",
    "#     print(msg)"
   ]
  },
  {
   "cell_type": "code",
   "execution_count": null,
   "metadata": {},
   "outputs": [],
   "source": [
    "tempo=5000\n",
    "elapsed_time=0\n",
    "\n",
    "for track in midi.tracks:\n",
    "    # print(track)\n",
    "    for msg in track:        \n",
    "        if msg.type == 'set_tempo':\n",
    "            tempo = msg.tempo\n",
    "            print('Tempo:\\t',tempo)\n",
    "\n",
    "        calc_time = mido.tick2second(msg.time, ticks_per_beat, tempo)\n",
    "        elapsed_time += calc_time\n",
    "        print('msg.time\\t',msg.time)\n",
    "        print('calc time:\\t', calc_time)\n",
    "        print('Elapsed Time:\\t',elapsed_time)        \n",
    "        # if elapsed_time <= 30:\n",
    "        #     print(msg.time)"
   ]
  },
  {
   "cell_type": "code",
   "execution_count": null,
   "metadata": {},
   "outputs": [],
   "source": []
  },
  {
   "cell_type": "code",
   "execution_count": null,
   "metadata": {},
   "outputs": [],
   "source": [
    "def exp_mido(file_path):\n",
    "    midi = mido.MidiFile(file_path)\n",
    "    print('Midi file type', midi.type)\n",
    "    print('Length',midi.length)\n",
    "    print('Ticks per beat',midi.ticks_per_beat)\n",
    "\n",
    "    elapsed_time = 0\n",
    "    ticks_per_beat = midi.ticks_per_beat\n",
    "    tempo = 500000\n",
    "\n",
    "    for msg in midi:\n",
    "        if msg.type == 'set_tempo':\n",
    "            tempo = msg.tempo\n",
    "\n",
    "        elapsed_time += mido.tick2second(msg.time, ticks_per_beat, tempo)\n",
    "        # print(elapsed_time)\n",
    "        if elapsed_time <= 30:\n",
    "            print(msg)"
   ]
  },
  {
   "cell_type": "code",
   "execution_count": null,
   "metadata": {},
   "outputs": [],
   "source": [
    "exp_mido(file_path_ps1)"
   ]
  },
  {
   "cell_type": "code",
   "execution_count": null,
   "metadata": {},
   "outputs": [],
   "source": [
    "exp_mido(file_path_ps2)"
   ]
  },
  {
   "cell_type": "code",
   "execution_count": null,
   "metadata": {},
   "outputs": [],
   "source": [
    "# # Generate the heatmap\n",
    "# plt.figure(figsize=(12, 8))\n",
    "# sns.heatmap(composer_avg, cmap='viridis', cbar=True)\n",
    "\n",
    "# # Display the plot\n",
    "# plt.title('Composer Note Values Heatmap')\n",
    "# plt.xlabel('Notes')\n",
    "# plt.ylabel('Composers')\n",
    "# plt.show()"
   ]
  },
  {
   "cell_type": "code",
   "execution_count": null,
   "metadata": {},
   "outputs": [],
   "source": [
    "# # Transform the DataFrame into a long format\n",
    "# df_long = pd.melt(composer_avg.reset_index(), id_vars=['Composer'], var_name='Note', value_name='Value')\n",
    "\n",
    "# # Plot the bar chart\n",
    "# plt.figure(figsize=(15, 8))\n",
    "# sns.barplot(x='Note', y='Value', hue='Composer', data=df_long)\n",
    "\n",
    "# # Customize the plot\n",
    "# plt.title('Composer Note Values Bar Chart')\n",
    "# plt.xlabel('Notes')\n",
    "# plt.ylabel('Values')\n",
    "# plt.legend(title='Composer')\n",
    "# plt.xticks(rotation=90)  # Rotate x-axis labels if needed for better readability\n",
    "\n",
    "# # Display the plot\n",
    "# plt.show()"
   ]
  },
  {
   "cell_type": "markdown",
   "metadata": {},
   "source": []
  }
 ],
 "metadata": {
  "kernelspec": {
   "display_name": ".venv",
   "language": "python",
   "name": "python3"
  },
  "language_info": {
   "codemirror_mode": {
    "name": "ipython",
    "version": 3
   },
   "file_extension": ".py",
   "mimetype": "text/x-python",
   "name": "python",
   "nbconvert_exporter": "python",
   "pygments_lexer": "ipython3",
   "version": "3.12.3"
  }
 },
 "nbformat": 4,
 "nbformat_minor": 2
}
